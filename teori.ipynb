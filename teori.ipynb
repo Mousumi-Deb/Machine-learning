{
 "cells": [
  {
   "attachments": {},
   "cell_type": "markdown",
   "metadata": {},
   "source": [
    "##  What is the difference between Regression problem and Classification problem?"
   ]
  },
  {
   "attachments": {},
   "cell_type": "markdown",
   "metadata": {},
   "source": [
    "A regression algorithm is an algorithm used to predict a continuous value, such as the price of a house, while a classification algorithm is used to predict a discrete value, such as whether a tumor is malignant or benign. There are many types of regression problems, such as linear regression, logistic regression, and more. There are also many types of classification problems, such as binary classification, multi-class classification, and more. There is also some overlap between regression and classification problems for machine learning algorithms.\n",
    "\n",
    "For example, logistic regression is a classification algorithm that can be used to predict a binary outcome (eg pass/fail, win/lose, alive/dead) given a number of input variables. Logistic regression is a special case of linear regression, where the output variable is binary. Logistic regression is also called logit regression or logit model."
   ]
  },
  {
   "attachments": {},
   "cell_type": "markdown",
   "metadata": {},
   "source": [
    "## What is \"supervised learning\"? Can you give some examples of models in use and potential areas of application? What is RMSE? What is a \"Confusion Matrix\"?\n"
   ]
  },
  {
   "attachments": {},
   "cell_type": "markdown",
   "metadata": {},
   "source": [
    "supervised learning is a type of machine learning algorithm used to predict the output for a given input. It is used when the data is labeled and the data set is used to train the model. Supervised learning is further divided into two types: classification and regression. classification is used when the output is a discrete value, such as spam or not spam. regression is used when the output is a continuous value, such as the price of a house. Supervised learning is used in many fields such as image recognition, speech recognition and many more.\n",
    "\n",
    "RMSE is a measure of how accurately the model predicts the response. It is calculated as the square root of the mean of the squares of the errors. The lower the RMSE, the better the model fits the data.\n",
    "\n",
    "A cofusion matrix is a table often used to describe the performance of a classification model (or \"classifier\") on a set of test data for which the true values are known. It makes it possible to visualize the performance of an algorithm. each row of the matrix represents the examples in a predicted class while each column represents the examples in an actual class. The name comes from the fact that it makes it easy to see if the system is confusing two classes (ie usually labeling one as another)."
   ]
  }
 ],
 "metadata": {
  "language_info": {
   "name": "python"
  },
  "orig_nbformat": 4
 },
 "nbformat": 4,
 "nbformat_minor": 2
}
